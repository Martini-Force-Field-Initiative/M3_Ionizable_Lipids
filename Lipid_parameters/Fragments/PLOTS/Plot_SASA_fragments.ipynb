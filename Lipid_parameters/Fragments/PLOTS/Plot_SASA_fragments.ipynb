{
 "cells": [
  {
   "cell_type": "code",
   "execution_count": 1,
   "id": "33cfc680-c817-4632-aeaf-92fef24fe98b",
   "metadata": {},
   "outputs": [],
   "source": [
    "import numpy as np\n",
    "from scipy.stats import sem\n",
    "from scipy.constants import R\n",
    "import matplotlib.pyplot as plt\n",
    "from sklearn.linear_model import LinearRegression"
   ]
  },
  {
   "cell_type": "code",
   "execution_count": 2,
   "id": "ca25cd3d-cb0e-4039-b722-bb826a75db95",
   "metadata": {},
   "outputs": [],
   "source": [
    "## HEADGROUPS ##\n",
    "Piperazine      = '/data1/lisbeth/Params/FRAGMENTS/AA_SIMS_WATER_IONS/Piperazine_0' #Ring with two amines \n",
    "amine           = '/data1/lisbeth/Params/FRAGMENTS/AA_SIMS_WATER_IONS/Amine_0' #Alcohol_link_amine\n",
    "amine2          = '/data1/lisbeth/Params/FRAGMENTS/AA_SIMS_WATER_IONS/Amine2_0' #Alcohol_link_amine \n",
    "KC              = '/data1/lisbeth/Params/FRAGMENTS/AA_SIMS_WATER_IONS/KC_0' #KC1 - Ketal no linker \n",
    "DAP_amine       = '/data1/lisbeth/Params/FRAGMENTS/AA_SIMS_WATER_IONS/DAP_amine_0'  #Amine_two_esters\n",
    "MC3_amine       = '/data1/lisbeth/Params/FRAGMENTS/AA_SIMS_WATER_IONS/MC3_amine_0/MAP3' #Amine_one_ester\n",
    "Amine_link_ester  = '/data1/lisbeth/Params/FRAGMENTS/AA_SIMS_WATER_IONS/Amine_link_ester_0' #Amine_link_ester \n",
    "Amine_link_ether  = '/data1/lisbeth/Params/FRAGMENTS/AA_SIMS_WATER_IONS/Amine_link_ether_0' #Amine_link_ether \n",
    "ether_ring        = '/data1/lisbeth/Params/FRAGMENTS/AA_SIMS_WATER_IONS/Ether_ring_0/MAP3'#KC2 -ketal with linker \n",
    "ether_broken_map2 = '/data1/lisbeth/Params/FRAGMENTS/AA_SIMS_WATER_IONS/ether_0/MAP2' #Amine_two_ethers  \n",
    "Amine_branched    = '/data1/lisbeth/Params/FRAGMENTS/AA_SIMS_WATER_IONS/Amine_branched_0' #Teritiary amine with two branching tails \n",
    "triple_amine      = '/data1/lisbeth/Params/FRAGMENTS/AA_SIMS_WATER_IONS/triple_amine_0_0_0' #maybe add as well\n",
    "\n",
    "#Amine carbamate\n",
    "#Amine ester disulfied\n",
    "\n",
    "HEADS = [amine, amine2, KC, ether_ring, ether_broken_map2, DAP_amine, MC3_amine, Amine_link_ester, Amine_link_ether, Amine_branched]\n",
    "HEAD_names = ['amine', 'amine2', 'KC', 'ether_ring', 'ether_broken_map2', 'DAP_amine', 'MC3_amine', 'Amine_link_ester', 'Amine_link_ether', 'Amine_branched']\n",
    "\n",
    "#PEGylated lipid fragments\n",
    "ALC             = '/data1/lisbeth/Params/FRAGMENTS/AA_SIMS_WATER_IONS/ALC0159_0' #Pzifer PEGylated lipid Neutral and charged form\n",
    "DMG             = '/data1/lisbeth/Params/FRAGMENTS/AA_SIMS_WATER_IONS/DMG-PEG'   #Moderna PEGylated lipid\n",
    "\n",
    "PEGs = [ALC, DMG]\n",
    "PEG_names = ['ALC','DMG']\n",
    "\n",
    "## LINKERS ##\n",
    "Ester_branched3 = '/data1/lisbeth/Params/FRAGMENTS/AA_SIMS_WATER_IONS/Ester_branched/MAP3' #Goodie\n",
    "Ester_branched_long_unsat = '/data1/lisbeth/Params/FRAGMENTS/AA_SIMS_WATER_IONS/Ester_branched_long_unsat_bulk' #Re-run \n",
    "Ester_branched_long_sat = '/data1/lisbeth/Params/FRAGMENTS/AA_SIMS_WATER_IONS/Ester_branched_long_sat_bulk' #Re-run\n",
    "Ether_link_sat   = '/data1/lisbeth/Params/FRAGMENTS/AA_SIMS_WATER_IONS/Ether_link_sat' #Extend sims, otherwise ok\n",
    "Ether_link_unsat = '/data1/lisbeth/Params/FRAGMENTS/AA_SIMS_WATER_IONS/Ether_link_unsat' #Extend sims, otherwise ok\n",
    "SC1_ester_SC1   = '/data1/lisbeth/Params/FRAGMENTS/AA_SIMS_WATER_IONS/Sc1_ester_Sc1'\n",
    "C1_ester_C1_    = '/data1/lisbeth/Params/FRAGMENTS/AA_SIMS_WATER_IONS/C1_ester_C1'\n",
    "C4h_ester_C4h   = '/data1/lisbeth/Params/FRAGMENTS/AA_SIMS_WATER_IONS/C4h_ester_C4h'\n",
    "Double_ester_long = '/data1/lisbeth/Params/FRAGMENTS/AA_SIMS_WATER_IONS/Double_ester_long'\n",
    "Double_ester_branched = '/data1/lisbeth/Params/FRAGMENTS/AA_SIMS_WATER_IONS/Double_ester_long_branched'\n",
    "\n",
    "##Missing linkers:\n",
    "#Ester disulfied \n",
    "#carbamate \n",
    "\n",
    "LINKERS = [  SC1_ester_SC1, Ether_link_sat, Ether_link_unsat, Ester_branched_long_unsat, Ester_branched_long_sat]\n",
    "LINKER_names = [ 'SC1_ester_SC1', 'Ether_link_sat', 'Ether_link_unsat', 'Ester_branched_long_unsat', 'Ester_branched_long_sat']"
   ]
  },
  {
   "cell_type": "code",
   "execution_count": 3,
   "id": "b52dac7e-9f98-46dc-9684-26d347980211",
   "metadata": {},
   "outputs": [],
   "source": [
    "fragments = HEADS + LINKERS + PEGs\n",
    "fragment_labels = HEAD_names + LINKER_names + PEG_names"
   ]
  },
  {
   "cell_type": "code",
   "execution_count": 4,
   "id": "6d506f6b-9a1a-4840-81e5-314609b38e03",
   "metadata": {},
   "outputs": [],
   "source": [
    "def load_SASA (path):\n",
    "    '''STD and AVA'''\n",
    "    AA = np.loadtxt('{}/AA/resarea_SASA.xvg'.format(path), comments=('#','@'))[1:]\n",
    "    CG = np.loadtxt('{}/CG_WAT/CG_SASA/resarea_SASA.xvg'.format(path), comments=('#','@'))[1:]\n",
    "    return AA, CG"
   ]
  },
  {
   "cell_type": "code",
   "execution_count": 23,
   "id": "0fb5b3dc-93d4-43af-9ec3-24f2f7fda52c",
   "metadata": {},
   "outputs": [
    {
     "data": {
      "image/png": "[encoded data removed]",
      "text/plain": [
       "<Figure size 432x288 with 1 Axes>"
      ]
     },
     "metadata": {
      "needs_background": "light"
     },
     "output_type": "display_data"
    }
   ],
   "source": [
    "plt.rcParams.update({'font.size': 13})\n",
    "\n",
    "PA = []\n",
    "CA = []\n",
    "\n",
    "\n",
    "for idx, f in enumerate(fragments):\n",
    "    try:\n",
    "        AA, CG    = load_SASA(f)\n",
    "    except:\n",
    "        print (f)\n",
    "        print (fragment_labels[idx])\n",
    "        \n",
    "    plt.errorbar(AA[0], CG[0], xerr=AA[1], yerr=CG[1], ecolor='red', alpha=0.5)\n",
    "    plt.plot(AA[0], CG[0], 'o', label=fragment_labels[idx], ms=7, color='orange', mec='black')\n",
    "    \n",
    "    CA.append(AA[0])\n",
    "    PA.append(CG[0])\n",
    "        \n",
    "linr_model = LinearRegression().fit(np.array(PA).reshape(-1, 1), np.array(CA).reshape(-1, 1))\n",
    "a= linr_model.coef_[0]\n",
    "b = linr_model.intercept_\n",
    "X = np.linspace(0, np.max(PA)+5, 10)\n",
    "Y = a*X+0\n",
    "\n",
    "plt.plot(X, Y, linestyle='--', color='grey')\n",
    "\n",
    "    \n",
    "plt.xlabel('Atomistic SASA (nm$^2$)' )\n",
    "plt.ylabel('Coarse grained SASA (nm$^2$)')\n",
    "\n",
    "plt.ylim(3.5,10)\n",
    "plt.xlim(3.5,10)\n",
    "\n",
    "plt.title('SASA of fragments')\n",
    "\n",
    "plt.savefig('SASA_fragments.png', dpi=300, bbox_inches='tight')\n",
    "plt.savefig('SASA_fragments.pdf', dpi=300, bbox_inches='tight')\n",
    "plt.show()"
   ]
  },
  {
   "cell_type": "code",
   "execution_count": null,
   "id": "4dbeff9d-9957-4457-ba2f-dd06f4619e25",
   "metadata": {},
   "outputs": [],
   "source": []
  }
 ],
 "metadata": {
  "kernelspec": {
   "display_name": "nglview",
   "language": "python",
   "name": "nglview"
  },
  "language_info": {
   "codemirror_mode": {
    "name": "ipython",
    "version": 3
   },
   "file_extension": ".py",
   "mimetype": "text/x-python",
   "name": "python",
   "nbconvert_exporter": "python",
   "pygments_lexer": "ipython3",
   "version": "3.10.5"
  }
 },
 "nbformat": 4,
 "nbformat_minor": 5
}
