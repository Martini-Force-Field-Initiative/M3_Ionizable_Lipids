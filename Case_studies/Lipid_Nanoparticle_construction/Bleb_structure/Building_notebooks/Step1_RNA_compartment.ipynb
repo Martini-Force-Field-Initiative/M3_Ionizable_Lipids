{
 "cells": [
  {
   "cell_type": "code",
   "execution_count": 1,
   "metadata": {},
   "outputs": [],
   "source": [
    "import numpy as np\n",
    "import os\n",
    "import subprocess \n",
    "import MDAnalysis as md\n",
    "from MDAnalysis.analysis.leaflet import LeafletFinder\n",
    "import re"
   ]
  },
  {
   "cell_type": "markdown",
   "metadata": {},
   "source": [
    "# Notebook for constructing a Bleb LNP with 1000nt Poly A RNA"
   ]
  },
  {
   "cell_type": "markdown",
   "metadata": {},
   "source": [
    "## Requirements\n",
    "### - Define Paths bellow;\n",
    "### - Install MDAnalysis, Packmol, TS2CG, mdvcontainment, freud and mdvwhole."
   ]
  },
  {
   "cell_type": "code",
   "execution_count": 2,
   "metadata": {},
   "outputs": [],
   "source": [
    "IL_name_NP = 'MC3H'\n",
    "IL_name_N1 = 'MC3'\n",
    "sterol_name = 'CHOL'\n",
    "noRNA = 1\n",
    "vesicle_radius = 24 # nm"
   ]
  },
  {
   "cell_type": "code",
   "execution_count": 3,
   "metadata": {},
   "outputs": [],
   "source": [
    "main_dir = '.'\n",
    "mdp_loc_BL = 'MDPs/'\n",
    "ILs_itp = 'ITP/MC3_KC2_DP_DT/_LI5_LI2_LI10_BMHB.itp'\n",
    "\n",
    "PCG_path = '' #Define path to PCG/TS2CG instalation\n",
    "\n",
    "RNA = 'PDBs/1000_RNA.pdb'\n",
    "RNA_itp = 'ITP/1000_RNA_10-to-2.itp'\n",
    "\n",
    "    \n",
    "itpDir   = \"ITP/\"\n",
    "IL_itp   = 'ITP/MC3_KC2_DP_DT_LI5_LI2_LI10_BMHB.itp'\n",
    "Sterols  = \"ITP/martini_v3.0_sterols_v1.0.itp\"    \n",
    "ffbonded = \"ITP/martini_v3.0_ffbonded.itp\""
   ]
  },
  {
   "cell_type": "markdown",
   "metadata": {},
   "source": [
    "####  functions"
   ]
  },
  {
   "cell_type": "code",
   "execution_count": 4,
   "metadata": {},
   "outputs": [],
   "source": [
    "def get_radius (x,y,z):\n",
    "    # Calculate the centroid of the cylinder (center axis)\n",
    "    centroid_x = np.mean(x)\n",
    "    centroid_y = np.mean(y)\n",
    "    centroid_z = np.mean(z)\n",
    "\n",
    "    # Calculate the distances from the centroid to each point\n",
    "    distances = np.sqrt((x - centroid_x)**2 + (y - centroid_y)**2 + (z - centroid_z)**2)\n",
    "\n",
    "    # Find the minimum distance, which represents the internal radius of the cylinder\n",
    "    internal_radius = np.min(distances)\n",
    "\n",
    "    return internal_radius\n",
    "\n",
    "def write_packmol_input(channel_radius, noW=1, noCL=1, channel_length=100):\n",
    "    f = open('solvate_channel.inp', 'w') \n",
    "    f.write(f'tolerance 3.0\\nfiletype pdb\\n\\n')\n",
    "\n",
    "    f.write(f'structure {RNA}\\n')\n",
    "    f.write(f'  number {noRNA}\\n')\n",
    "    f.write(f'  inside sphere 0. 0. 0. {(int(channel_radius))}.\\n')\n",
    "    f.write(f'end structure\\n')\n",
    "\n",
    "    f.write(f'structure PDBs/water.pdb\\n')\n",
    "    f.write(f'  number {noW}\\n')\n",
    "    f.write(f'  inside sphere 0. 0. 0. {int(channel_radius)}.\\n')\n",
    "    f.write(f'end structure\\n')\n",
    "\n",
    "    f.write(f'structure PDBs/CL.pdb\\n')\n",
    "    f.write(f'  number {noCL}\\n')\n",
    "    f.write(f'  inside sphere 0. 0. 0. {int(channel_radius)}.\\n')\n",
    "    f.write(f'end structure\\n')\n",
    "            \n",
    "    f.write('output solvate_channel_rna.pdb\\n')\n",
    "    f.close()\n",
    "    return\n",
    "\n",
    "def extract_lines(input_file, pattern):\n",
    "    extracted_lines = []\n",
    "    pattern_found = False\n",
    "\n",
    "    with open(input_file, 'r') as f:\n",
    "        for line in f:\n",
    "            if pattern_found:\n",
    "                extracted_lines.append(line)\n",
    "\n",
    "            if pattern in line:\n",
    "                pattern_found = True\n",
    "\n",
    "    return extracted_lines\n",
    "\n",
    "def write_topol (topol, noW, noCL):\n",
    "    '''Writes out a topol.top file with the solvate channel times 4 including the correct itp files'''\n",
    "    extracted_lines = extract_lines(topol, 'lower monolayer')\n",
    "    \n",
    "    with open('topol.top', 'w') as topout:\n",
    "        topout.write(f'#include \"{itpDir}/martini_v3.0.0.itp\"\\n#include \"{ffbonded}\"\\n#include \"{RNA_itp}\"\\n\\\n",
    "#include \"{itpDir}/martini_v3.0.0_phospholipids_v1.itp\"\\\n",
    "\\n#include \"{IL_itp}\"\\n#include \"{Sterols}\"\\n#include \"{itpDir}/martini_v3.0.0_solvents_v1.itp\"\\n\\\n",
    "#include \"{itpDir}/martini_v3.0.0_ions_v1.itp\"\\n')\n",
    "        topout.write(f'[ system ]\\n')\n",
    "        topout.write('Compartment_RNA\\n')\n",
    "        topout.write(f'\\n')\n",
    "        topout.write(f'[ molecules ]\\n')\n",
    "        for i in range(1):\n",
    "                for line in extracted_lines:\n",
    "                    topout.write(line)\n",
    "                topout.write(f'RNA    {noRNA}\\n')\n",
    "                topout.write(f'W    {noW}\\n')\n",
    "                topout.write(f'CL    {noCL}\\n')\n",
    "    return"
   ]
  },
  {
   "cell_type": "markdown",
   "metadata": {},
   "source": [
    "##### write input file for pcg"
   ]
  },
  {
   "cell_type": "code",
   "execution_count": 412,
   "metadata": {},
   "outputs": [],
   "source": [
    "O = open('input.str', 'w')\n",
    "\n",
    "O.write(\"[Lipids List]\\n\")\n",
    "O.write(\"Domain 0\\n\")\n",
    "O.write(f\"{IL_name_NP} 0.67  0.67 0.60\\n\") \n",
    "O.write(f\"{sterol_name} 0.33  0.33 0.60\\n\") \n",
    "O.write(\"End\\n\")\n",
    "O.write(\"\\n\")\n",
    "O.write(\"[Shape Data]\\n\")\n",
    "O.write(\"ShapeType Sphere\\n\")\n",
    "O.write(f\"Box {vesicle_radius}*2 {vesicle_radius}*2 {vesicle_radius}*2 \\n\")\n",
    "O.write(\"Density 2\\n\")\n",
    "O.write(\"WallDensity 1 1\\n\")\n",
    "O.write(\"Thickness 3.8\\n\")\n",
    "O.write(\"DL 0.2\\n\")\n",
    "O.write(f\"Radius {vesicle_radius} \\n\")\n",
    "O.write(\"End\\n\")\n",
    "O.close()"
   ]
  },
  {
   "cell_type": "markdown",
   "metadata": {},
   "source": [
    "##### Build the sphere with PCG"
   ]
  },
  {
   "cell_type": "code",
   "execution_count": 413,
   "metadata": {},
   "outputs": [
    {
     "name": "stdout",
     "output_type": "stream",
     "text": [
      "==============  PCG membrane builder: from function to membrane ======================\n",
      "****************** CG Membrane builder ******************   \n",
      "******************  Version:  1.1 ****************** \n",
      "==========================================================================================================\n",
      "[Lipids List]\n",
      "Domain 0\n",
      "MC3H 0.67  0.67 0.60\n",
      "CHOL 0.33  0.33 0.60\n",
      "End\n",
      "\n",
      "[Shape Data]\n",
      "ShapeType Sphere\n",
      "vesicle will be made \n",
      "--> Generating molecule types from  input.str  file\n",
      "--> Note: the lipids will be generated from < Martini Map CG> Lipid Library, of version:  Martini 3\n",
      "--> This library contains 146 lipid types \n",
      "--> Note: the total upper monolayer area is 8429.65 and the total lower monolayer area is 6137.54\n",
      " now is time to add the lipids \n",
      " Number of the domains defined in the input file  1\n",
      "***************************  we aim to generate  ********************** \n",
      "*     For domain with ID 0 \n",
      "*     9413  MC3H     \n",
      "*     4636  CHOL     \n",
      "   in the upper monolayer \n",
      "*     For domain with ID 0 \n",
      "*     6853  MC3H     \n",
      "*     3375  CHOL     \n",
      "   in the lower monolayer \n",
      "*************************** Number of created Lipids,   ********************** \n",
      "*     For domain with ID 0 \n",
      "*     9413  MC3H     \n",
      "*     4636  CHOL     \n",
      "   in the upper monolayer \n",
      "*     For domain with ID 0 \n",
      "*     6853  MC3H     \n",
      "*     3375  CHOL     \n",
      "   in the lower monolayer \n"
     ]
    },
    {
     "data": {
      "text/plain": [
       "0"
      ]
     },
     "execution_count": 413,
     "metadata": {},
     "output_type": "execute_result"
    }
   ],
   "source": [
    "p = subprocess.Popen(f\"{PCG_path} -str input.str -Bondlength 0.2 -LLIB Martini3.LIB -defout system -function analytical_shape\"\n",
    "                    , stdin=subprocess.PIPE, shell=True, universal_newlines=True)\n",
    "p.wait()"
   ]
  },
  {
   "cell_type": "markdown",
   "metadata": {},
   "source": [
    "##### Extract the inner leaflet"
   ]
  },
  {
   "cell_type": "code",
   "execution_count": 414,
   "metadata": {},
   "outputs": [],
   "source": [
    "u = md.Universe('system.gro')\n",
    "\n",
    "L = LeafletFinder(u, 'name NP N1 ROH', cutoff=15)\n",
    "\n",
    "inner_res = ' '.join(f'{i}' for i in L.groups()[1].resids)\n",
    "inner = u.select_atoms(f'resid {inner_res}')\n",
    "inner.atoms.write('Inner.pdb')"
   ]
  },
  {
   "cell_type": "markdown",
   "metadata": {},
   "source": [
    "##### solvate and add neutralizing ions using packmol"
   ]
  },
  {
   "cell_type": "code",
   "execution_count": 6,
   "metadata": {},
   "outputs": [],
   "source": [
    "u = md.Universe('Inner.pdb')\n",
    "sel = u.select_atoms('name N1 NP ROH')\n",
    "sel_lipid = u.select_atoms('name N1 NP')\n",
    "R = get_radius(sel.positions[:,0], sel.positions[:,1], sel.positions[:,2]) - 1  #radius of the channel, trying to substract 2 angstorm to avoid clashing"
   ]
  },
  {
   "cell_type": "code",
   "execution_count": 7,
   "metadata": {},
   "outputs": [
    {
     "name": "stderr",
     "output_type": "stream",
     "text": [
      "/DAMM/hosts/damm085/data1/mvalerio/my_env/lib/python3.12/site-packages/MDAnalysis/coordinates/PDB.py:1153: UserWarning: Found no information for attr: 'elements' Using default value of ' '\n",
      "  warnings.warn(\"Found no information for attr: '{}'\"\n",
      "/DAMM/hosts/damm085/data1/mvalerio/my_env/lib/python3.12/site-packages/MDAnalysis/coordinates/PDB.py:1153: UserWarning: Found no information for attr: 'formalcharges' Using default value of '0'\n",
      "  warnings.warn(\"Found no information for attr: '{}'\"\n"
     ]
    }
   ],
   "source": [
    "u.atoms.positions = u.atoms.positions - u.atoms.center_of_mass()\n",
    "u.atoms.write('Inner_centered.pdb')"
   ]
  },
  {
   "cell_type": "code",
   "execution_count": 8,
   "metadata": {},
   "outputs": [],
   "source": [
    "u = md.Universe('Inner_centered.pdb')\n",
    "sel = u.select_atoms('name N1 NP ROH')\n",
    "bb = u.select_atoms('name BB')"
   ]
  },
  {
   "cell_type": "code",
   "execution_count": 9,
   "metadata": {},
   "outputs": [],
   "source": [
    "hydration = 3 #This parameter this to be fixed iteratively\n",
    "noL = sel.resids.shape[0]\n",
    "noCL = sel_lipid.resids.shape[0] - bb.resids.shape[0]\n",
    "noW = (noL*hydration) - noCL"
   ]
  },
  {
   "cell_type": "code",
   "execution_count": 10,
   "metadata": {},
   "outputs": [
    {
     "data": {
      "text/plain": [
       "23831"
      ]
     },
     "execution_count": 10,
     "metadata": {},
     "output_type": "execute_result"
    }
   ],
   "source": [
    "noW"
   ]
  },
  {
   "cell_type": "code",
   "execution_count": 11,
   "metadata": {},
   "outputs": [],
   "source": [
    "write_packmol_input(R, noW=noW, noCL=noCL)"
   ]
  },
  {
   "cell_type": "markdown",
   "metadata": {},
   "source": [
    "##### Run packmol - Only use packmol for solvate and add ions"
   ]
  },
  {
   "cell_type": "code",
   "execution_count": 12,
   "metadata": {
    "scrolled": true
   },
   "outputs": [
    {
     "name": "stdout",
     "output_type": "stream",
     "text": [
      "\n",
      "################################################################################\n",
      "\n",
      " PACKMOL - Packing optimization for the automated generation of\n",
      " starting configurations for molecular dynamics simulations.\n",
      " \n",
      "                                                              Version 20.14.3 \n",
      "\n",
      "################################################################################\n",
      "\n",
      "  Packmol must be run with: packmol < inputfile.inp \n",
      "\n",
      "  Userguide at: http://m3g.iqm.unicamp.br/packmol \n",
      "\n",
      "  Reading input file... (Control-C aborts)\n",
      "  Types of coordinate files specified: pdb\n",
      "  Seed for random number generator:      1234567\n",
      "  Output file: solvate_channel_rna.pdb\n",
      "  Reading coordinate file: PDBs/1000_RNA.pdb\n",
      "  Reading coordinate file: PDBs/water.pdb\n",
      "  Reading coordinate file: PDBs/CL.pdb\n",
      "  Number of independent structures:            3\n",
      "  The structures are: \n",
      "  Structure            1 :PDBs/1000_RNA.pdb(       12000  atoms)\n",
      "  Structure            2 :PDBs/water.pdb(           1  atoms)\n",
      "  Structure            3 :PDBs/CL.pdb(           1  atoms)\n",
      "  Maximum number of GENCAN loops for all molecule packing:          600\n",
      "  Total number of restrictions:            3\n",
      "  Distance tolerance:    3.0000000000000000     \n",
      "  Warning: Type of residue numbering not set for structure            1\n",
      "  Residue numbering set for structure            1 :           1\n",
      "  Swap chains of molecules of structure            1 : F\n",
      "  Warning: Type of residue numbering not set for structure            2\n",
      "  Residue numbering set for structure            2 :           0\n",
      "  Swap chains of molecules of structure            2 : F\n",
      "  Warning: Type of residue numbering not set for structure            3\n",
      "  Residue numbering set for structure            3 :           0\n",
      "  Swap chains of molecules of structure            3 : F\n",
      "  Number of molecules of type            1 :            1\n",
      "  Number of molecules of type            2 :        23831\n",
      "  Warning: There will be more than 9999 molecules of type            2\n",
      "           Residue numbering is reset after 9999. \n",
      "  Each set be will be assigned a different chain in the PDB output file. \n",
      "  Number of molecules of type            3 :         6853\n",
      "  Total number of atoms:        42684\n",
      "  Total number of molecules:        30685\n",
      "  Number of fixed molecules:            0\n",
      "  Number of free molecules:        30685\n",
      "  Number of variables:       184110\n",
      "  Total number of fixed atoms:            0\n",
      "  Maximum internal distance of type            1 :    395.67057124330086     \n",
      "  Maximum internal distance of type            2 :    0.0000000000000000     \n",
      "  Maximum internal distance of type            3 :    0.0000000000000000     \n",
      "  All atoms must be within these coordinates: \n",
      "   x: [   -1000.0000000000000      ,    1000.0000000000000       ] \n",
      "   y: [   -1000.0000000000000      ,    1000.0000000000000       ] \n",
      "   z: [   -1000.0000000000000      ,    1000.0000000000000       ] \n",
      "  If the system is larger than this, increase the sidemax parameter. \n",
      "\n",
      "################################################################################\n",
      "\n",
      "  Building initial approximation ... \n",
      "\n",
      "################################################################################\n",
      "\n",
      "  Adjusting initial point to fit the constraints \n",
      "\n",
      "--------------------------------------------------------------------------------\n",
      "\n",
      "--------------------------------------------------------------------------------\n",
      "\n",
      "  Molecules of type:            1\n",
      "\n",
      "  Packing:|0                                                             100%|\n",
      "          |******************************************************************|\n",
      "          |********************************************************\n",
      "\n",
      "  Restraint-only function value:    0.0000000000000000     \n",
      "  Maximum violation of the restraints:    0.0000000000000000     \n",
      "\n",
      "--------------------------------------------------------------------------------\n",
      "\n",
      "  Molecules of type:            2\n",
      "\n",
      "  Packing:|0                                                             100%|\n",
      "          |********************************************************\n",
      "\n",
      "  Restraint-only function value:    7.3303547113163050E-008\n",
      "  Maximum violation of the restraints:    3.8081526795330335E-010\n",
      "\n",
      "--------------------------------------------------------------------------------\n",
      "\n",
      "  Molecules of type:            3\n",
      "\n",
      "  Packing:|0                                                             100%|\n",
      "          |********************************************************\n",
      "\n",
      "  Restraint-only function value:    2.3635174063679476E-008\n",
      "  Maximum violation of the restraints:    2.8655173894885021E-010\n",
      "\n",
      "--------------------------------------------------------------------------------\n",
      "\n",
      "  Rescaling maximum and minimum coordinates... \n",
      "  Computing size of patches... \n",
      "  Add fixed molecules to permanent arrays... \n",
      "  Reseting center of mass... \n",
      "\n",
      "--------------------------------------------------------------------------------\n",
      "\n",
      "  Setting initial trial coordinates ... \n",
      "\n",
      "--------------------------------------------------------------------------------\n",
      "\n",
      "--------------------------------------------------------------------------------\n",
      "\n",
      "  Molecules of type:            1\n",
      "  Adjusting random positions to fit the constraints. \n",
      "  Packing:|0                                                             100%|\n",
      "          |******************************************************************|\n",
      "\n",
      "  Restraint-only function value:    0.0000000000000000     \n",
      "  Maximum violation of the restraints:    0.0000000000000000     \n",
      "\n",
      "--------------------------------------------------------------------------------\n",
      "\n",
      "  Molecules of type:            2\n",
      "  Adjusting random positions to fit the constraints. \n",
      "  Restraint-only function value:    0.0000000000000000     \n",
      "  Maximum violation of the restraints:    0.0000000000000000     \n",
      "\n",
      "--------------------------------------------------------------------------------\n",
      "\n",
      "  Molecules of type:            3\n",
      "  Adjusting random positions to fit the constraints. \n",
      "  Restraint-only function value:    0.0000000000000000     \n",
      "  Maximum violation of the restraints:    0.0000000000000000     \n",
      "\n",
      "################################################################################\n",
      "\n",
      "  Objective function at initial point:    40053.345654688157     \n",
      "\n",
      "################################################################################\n",
      "\n",
      "  Packing molecules of type:            1\n",
      "\n",
      "################################################################################\n",
      "\n",
      "\n",
      "  Initial approximation is a solution. Nothing to do. \n",
      "\n",
      "  Current point written to file: solvate_channel_rna.pdb\n",
      "--------------------------------------------------------------------------------\n",
      "  Packing solved for molecules of type           1\n",
      "  Objective function value:    0.0000000000000000     \n",
      "  Maximum violation of target distance:    0.0000000000000000     \n",
      "  Max. constraint violation:    0.0000000000000000     \n",
      "--------------------------------------------------------------------------------\n",
      "\n",
      "################################################################################\n",
      "\n",
      "  Packing molecules of type:            2\n",
      "\n",
      "################################################################################\n",
      "\n",
      "\n",
      "--------------------------------------------------------------------------------\n",
      "\n",
      "  Starting GENCAN loop:            0\n",
      "  Scaling radii by:    1.1000000000000001     \n",
      "\n",
      "  Packing:|0                                                             100%|\n",
      "          |**************\n",
      "\n",
      "  Function value from last GENCAN loop: f = .22278E-03\n",
      "  Best function value before: f = .13897E+05\n",
      "  Improvement from best function value:    99.99 %\n",
      "  Improvement from last loop:    99.99 %\n",
      "  Maximum violation of target distance:     0.000000\n",
      "  Maximum violation of the constraints: .78315E-04\n",
      "  Current structure written to file: solvate_channel_rna.pdb\n",
      "--------------------------------------------------------------------------------\n",
      "  Packing solved for molecules of type           2\n",
      "  Objective function value:    2.2277829291101421E-004\n",
      "  Maximum violation of target distance:    0.0000000000000000     \n",
      "  Max. constraint violation:    7.8315154651426117E-005\n",
      "--------------------------------------------------------------------------------\n",
      "\n",
      "################################################################################\n",
      "\n",
      "  Packing molecules of type:            3\n",
      "\n",
      "################################################################################\n",
      "\n",
      "\n",
      "--------------------------------------------------------------------------------\n",
      "\n",
      "  Starting GENCAN loop:            0\n",
      "  Scaling radii by:    1.1000000000000001     \n",
      "\n",
      "  Packing:|0                                                             100%|\n",
      "          |*******\n",
      "\n",
      "  Function value from last GENCAN loop: f = .00000E+00\n",
      "  Best function value before: f = .10920E+04\n",
      "  Improvement from best function value:    99.99 %\n",
      "  Improvement from last loop:    99.99 %\n",
      "  Maximum violation of target distance:     0.000000\n",
      "  Maximum violation of the constraints: .00000E+00\n",
      "  Current structure written to file: solvate_channel_rna.pdb\n",
      "--------------------------------------------------------------------------------\n",
      "  Packing solved for molecules of type           3\n",
      "  Objective function value:    0.0000000000000000     \n",
      "  Maximum violation of target distance:    0.0000000000000000     \n",
      "  Max. constraint violation:    0.0000000000000000     \n",
      "--------------------------------------------------------------------------------\n",
      "\n",
      "################################################################################\n",
      "\n",
      "  Packing all molecules together \n",
      "\n",
      "################################################################################\n",
      "\n",
      "\n",
      "--------------------------------------------------------------------------------\n",
      "\n",
      "  Starting GENCAN loop:            0\n",
      "  Scaling radii by:    1.1000000000000001     \n",
      "\n",
      "  Packing:|0                                                             100%|\n",
      "          |******************************************************************|\n",
      "          |******************************************************************|\n",
      "\n",
      "  Function value from last GENCAN loop: f = .83610E+04\n",
      "  Best function value before: f = .25065E+05\n",
      "  Improvement from best function value:    66.64 %\n",
      "  Improvement from last loop:    66.64 %\n",
      "  Maximum violation of target distance:     8.987028\n",
      "  Maximum violation of the constraints: .77933E+01\n",
      "\n",
      "--------------------------------------------------------------------------------\n",
      "\n",
      "\n",
      "--------------------------------------------------------------------------------\n",
      "\n",
      "  Starting GENCAN loop:            1\n",
      "  Scaling radii by:    1.1000000000000001     \n",
      "\n",
      "  Packing:|0                                                             100%|\n",
      "          |******************************************************************|\n",
      "          |******************************************************************|\n",
      "\n",
      "  Function value from last GENCAN loop: f = .98498E+03\n",
      "  Best function value before: f = .83610E+04\n",
      "  Improvement from best function value:    88.22 %\n",
      "  Improvement from last loop:    88.22 %\n",
      "  Maximum violation of target distance:     8.246418\n",
      "  Maximum violation of the constraints: .72327E+01\n",
      "\n",
      "--------------------------------------------------------------------------------\n",
      "\n",
      "\n",
      "--------------------------------------------------------------------------------\n",
      "\n",
      "  Starting GENCAN loop:            2\n",
      "  Scaling radii by:    1.1000000000000001     \n",
      "\n",
      "  Packing:|0                                                             100%|\n",
      "          |******************************************************************|\n",
      "          |******************************************************************|\n",
      "\n",
      "  Function value from last GENCAN loop: f = .43810E+03\n",
      "  Best function value before: f = .98498E+03\n",
      "  Improvement from best function value:    55.52 %\n",
      "  Improvement from last loop:    55.52 %\n",
      "  Maximum violation of target distance:     6.718614\n",
      "  Maximum violation of the constraints: .18001E+01\n",
      "\n",
      "--------------------------------------------------------------------------------\n",
      "\n",
      "\n",
      "--------------------------------------------------------------------------------\n",
      "\n",
      "  Starting GENCAN loop:            3\n",
      "  Scaling radii by:    1.1000000000000001     \n",
      "\n",
      "  Packing:|0                                                             100%|\n",
      "          |******************************************************************|\n",
      "          |******************************************************************|\n",
      "\n",
      "  Function value from last GENCAN loop: f = .18279E+03\n",
      "  Best function value before: f = .43810E+03\n",
      "  Improvement from best function value:    58.28 %\n",
      "  Improvement from last loop:    58.28 %\n",
      "  Maximum violation of target distance:     7.704544\n",
      "  Maximum violation of the constraints: .12124E+01\n",
      "\n",
      "--------------------------------------------------------------------------------\n",
      "\n",
      "\n",
      "--------------------------------------------------------------------------------\n",
      "\n",
      "  Starting GENCAN loop:            4\n",
      "  Scaling radii by:    1.1000000000000001     \n",
      "\n",
      "  Packing:|0                                                             100%|\n",
      "          |******************************************************************|\n",
      "          |**************^C\n"
     ]
    }
   ],
   "source": [
    "!/projects/DAMM/packmol-20.14.3/packmol < solvate_channel.inp"
   ]
  },
  {
   "cell_type": "code",
   "execution_count": 13,
   "metadata": {},
   "outputs": [
    {
     "name": "stderr",
     "output_type": "stream",
     "text": [
      "/DAMM/hosts/damm085/data1/mvalerio/my_env/lib/python3.12/site-packages/MDAnalysis/topology/PDBParser.py:348: UserWarning: Unknown element  found for some atoms. These have been given an empty element record. If needed they can be guessed using MDAnalysis.topology.guessers.\n",
      "  warnings.warn(wmsg)\n",
      "/DAMM/hosts/damm085/data1/mvalerio/my_env/lib/python3.12/site-packages/MDAnalysis/topology/guessers.py:146: UserWarning: Failed to guess the mass for the following atom types: \n",
      "  warnings.warn(\"Failed to guess the mass for the following atom types: {}\".format(atom_type))\n",
      "/DAMM/hosts/damm085/data1/mvalerio/my_env/lib/python3.12/site-packages/MDAnalysis/coordinates/PDB.py:777: UserWarning: Unit cell dimensions not found. CRYST1 record set to unitary values.\n",
      "  warnings.warn(\"Unit cell dimensions not found. \"\n"
     ]
    }
   ],
   "source": [
    "## Join membrane and Water core\n",
    "u1 = md.Universe(\"Inner_centered.pdb\")\n",
    "u2 = md.Universe(\"solvate_channel_rna.pdb\")\n",
    "\n",
    "u = md.Merge(u1.atoms, u2.atoms)\n",
    "u.atoms.write(\"combined.pdb\")"
   ]
  },
  {
   "cell_type": "markdown",
   "metadata": {},
   "source": [
    "##### Create box"
   ]
  },
  {
   "cell_type": "code",
   "execution_count": 14,
   "metadata": {
    "scrolled": true
   },
   "outputs": [
    {
     "name": "stderr",
     "output_type": "stream",
     "text": [
      "                     :-) GROMACS - gmx editconf, 2023.3 (-:\n",
      "\n",
      "Executable:   /projects/DAMM/gromacs/avx2256/gromacs-2023.3/bin/gmx\n",
      "Data prefix:  /projects/DAMM/gromacs/avx2256/gromacs-2023.3\n",
      "Working dir:  /DAMM/hosts/damm085/data1/mvalerio/Lisbeth/LNP_builder/Building_material/Bleb_particle\n",
      "Command line:\n",
      "  gmx editconf -f combined.pdb -o combined.gro -box 70 70 70\n",
      "\n",
      "\n",
      "Back Off! I just backed up combined.gro to ./#combined.gro.1#\n"
     ]
    },
    {
     "name": "stdout",
     "output_type": "stream",
     "text": [
      "Note that major changes are planned in future for editconf, to improve usability and utility.\n",
      "Read 155295 atoms\n",
      "Volume: 0.001 nm^3, corresponds to roughly 0 electrons\n",
      "No velocities found\n",
      "    system size : 46.383 46.188 46.176 (nm)\n",
      "    center      : -0.011  0.066 -0.278 (nm)\n",
      "    box vectors :  0.100  0.100  0.100 (nm)\n",
      "    box angles  :  90.00  90.00  90.00 (degrees)\n",
      "    box volume  :   0.00               (nm^3)\n",
      "    shift       : 35.011 34.934 35.278 (nm)\n",
      "new center      : 35.000 35.000 35.000 (nm)\n",
      "new box vectors : 70.000 70.000 70.000 (nm)\n",
      "new box angles  :  90.00  90.00  90.00 (degrees)\n",
      "new box volume  :343000.00               (nm^3)\n"
     ]
    },
    {
     "name": "stderr",
     "output_type": "stream",
     "text": [
      "\n",
      "GROMACS reminds you: \"You got one part of that wrong. This is not meth.\" (Breaking Bad)\n",
      "\n"
     ]
    },
    {
     "data": {
      "text/plain": [
       "0"
      ]
     },
     "execution_count": 14,
     "metadata": {},
     "output_type": "execute_result"
    }
   ],
   "source": [
    "os.system('gmx editconf -f combined.pdb -o combined.gro -box 70 70 70') "
   ]
  },
  {
   "cell_type": "markdown",
   "metadata": {},
   "source": [
    "##### Write topol.top"
   ]
  },
  {
   "cell_type": "code",
   "execution_count": 15,
   "metadata": {},
   "outputs": [],
   "source": [
    "write_topol('system.top', noW, noCL)"
   ]
  },
  {
   "cell_type": "markdown",
   "metadata": {},
   "source": [
    "### Min and relax"
   ]
  },
  {
   "cell_type": "code",
   "execution_count": 16,
   "metadata": {
    "scrolled": true
   },
   "outputs": [
    {
     "name": "stderr",
     "output_type": "stream",
     "text": [
      "                      :-) GROMACS - gmx grompp, 2023.3 (-:\n",
      "\n",
      "Executable:   /projects/DAMM/gromacs/avx2256/gromacs-2023.3/bin/gmx\n",
      "Data prefix:  /projects/DAMM/gromacs/avx2256/gromacs-2023.3\n",
      "Working dir:  /DAMM/hosts/damm085/data1/mvalerio/Lisbeth/LNP_builder/Building_material/Bleb_particle\n",
      "Command line:\n",
      "  gmx grompp -f MDPs//min_scp.mdp -c combined.gro -p topol.top -o m.tpr -maxwarn 1\n",
      "\n",
      "\n",
      "NOTE 1 [file MDPs//min_scp.mdp, line 43]:\n",
      "  For proper sampling of the (nearly) decoupled state, stochastic dynamics\n",
      "  should be used\n",
      "\n",
      "\n",
      "NOTE 2 [file topol.top, line 17]:\n",
      "  System has non-zero total charge: -1000.000000\n",
      "  Total charge should normally be an integer. See\n",
      "  http://www.gromacs.org/Documentation/Floating_Point_Arithmetic\n",
      "  for discussion on how close it should be to an integer.\n",
      "\n",
      "\n",
      "\n"
     ]
    },
    {
     "name": "stdout",
     "output_type": "stream",
     "text": [
      "Setting the LD random seed to -571739260\n",
      "\n",
      "Generated 1689 of the 357435 non-bonded parameter combinations\n",
      "\n",
      "Excluding 1 bonded neighbours molecule type 'MC3H'\n",
      "\n",
      "Excluding 1 bonded neighbours molecule type 'CHOL'\n",
      "\n",
      "Excluding 1 bonded neighbours molecule type 'RNA'\n",
      "\n",
      "Excluding 1 bonded neighbours molecule type 'W'\n",
      "\n",
      "Excluding 1 bonded neighbours molecule type 'CL'\n",
      "\n",
      "Coupling 40913 copies of molecule type 'system'\n",
      "\n",
      "Cleaning up constraints and constant bonded interactions with virtual sites\n",
      "\n",
      "Cleaning up constraints and constant bonded interactions with virtual sites\n",
      "Analysing residue names:\n",
      "There are: 40912      Other residues\n",
      "There are:  1000        RNA residues\n",
      "Analysing residues not classified as Protein/DNA/RNA/Water and splitting into groups...\n",
      "\n",
      "This run will generate roughly 12 Mb of data\n"
     ]
    },
    {
     "name": "stderr",
     "output_type": "stream",
     "text": [
      "Number of degrees of freedom in T-Coupling group rest is 385132.00\n",
      "The integrator does not provide a ensemble temperature, there is no system ensemble temperature\n",
      "\n",
      "NOTE 3 [file MDPs//min_scp.mdp]:\n",
      "  You are using a plain Coulomb cut-off, which might produce artifacts.\n",
      "  You might want to consider using PME electrostatics.\n",
      "\n",
      "\n",
      "\n",
      "There were 3 NOTEs\n",
      "\n",
      "Back Off! I just backed up m.tpr to ./#m.tpr.1#\n",
      "\n",
      "GROMACS reminds you: \"I came up with the new convergence method, it's called a deadline driven convergence. My simulation is converged when it hits the deadline.\" (Tanadet Pipatpolkai)\n",
      "\n"
     ]
    },
    {
     "data": {
      "text/plain": [
       "0"
      ]
     },
     "execution_count": 16,
     "metadata": {},
     "output_type": "execute_result"
    }
   ],
   "source": [
    "os.system(f\"gmx grompp -f {mdp_loc_BL}/min_scp.mdp -c combined.gro -p topol.top -o m.tpr -maxwarn 1\")"
   ]
  },
  {
   "cell_type": "code",
   "execution_count": null,
   "metadata": {},
   "outputs": [],
   "source": [
    "os.system('gmx mdrun -v -deffnm m -ntomp 5 -ntmpi 2')"
   ]
  },
  {
   "cell_type": "code",
   "execution_count": 19,
   "metadata": {},
   "outputs": [],
   "source": [
    "### Create the index file\n",
    "gro = 'm.gro'\n",
    "u = md.Universe(gro)\n",
    "lipidsagg=u.select_atoms(f'resname {IL_name_N1} {IL_name_NP} MC3H LI2H SITO CHOL A')\n",
    "solventagg=u.select_atoms(f'not resname {sterol_name} LI2H MC3H SITO CHOL A')\n",
    "lipidsagg.write(\"index.ndx\", mode=\"w\", name= 'Particle')\n",
    "solventagg.write(\"index.ndx\", mode=\"a\", name= 'Solvent')\n",
    "u.atoms.write(\"index.ndx\", mode=\"a\", name= 'System')"
   ]
  },
  {
   "cell_type": "markdown",
   "metadata": {},
   "source": [
    "## Make whole and wrap mono- or bilayer around with PEGylated lipids"
   ]
  },
  {
   "cell_type": "code",
   "execution_count": null,
   "metadata": {},
   "outputs": [],
   "source": [
    "os.system(\"mdvwhole -f m.tpr -x r.gro -o r_whole.gro -wa True -mol True\")"
   ]
  },
  {
   "cell_type": "code",
   "execution_count": null,
   "metadata": {},
   "outputs": [],
   "source": []
  }
 ],
 "metadata": {
  "kernelspec": {
   "display_name": "Python 3 (ipykernel)",
   "language": "python",
   "name": "python3"
  },
  "language_info": {
   "codemirror_mode": {
    "name": "ipython",
    "version": 3
   },
   "file_extension": ".py",
   "mimetype": "text/x-python",
   "name": "python",
   "nbconvert_exporter": "python",
   "pygments_lexer": "ipython3",
   "version": "3.12.2"
  }
 },
 "nbformat": 4,
 "nbformat_minor": 4
}
