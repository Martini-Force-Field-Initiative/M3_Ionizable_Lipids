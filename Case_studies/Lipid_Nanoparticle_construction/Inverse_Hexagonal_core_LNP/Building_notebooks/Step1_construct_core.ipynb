{
 "cells": [
  {
   "cell_type": "code",
   "execution_count": 1,
   "metadata": {},
   "outputs": [],
   "source": [
    "import numpy as np\n",
    "import os\n",
    "import subprocess \n",
    "import MDAnalysis as md\n",
    "from MDAnalysis.analysis.leaflet import LeafletFinder\n",
    "import re"
   ]
  },
  {
   "cell_type": "markdown",
   "metadata": {},
   "source": [
    "# Notebook for constructing inverse hexagonal phase, using 4 channels with 21nt dsPoly A RNA inside each channel\n",
    "A hydration of 3 water beads per lipid is used. The needed CL ions for neutralization is subtracted from the number of W beads for stability.\n",
    "\n",
    "The water and ions are added with packmol, so various hydration levels can be used"
   ]
  },
  {
   "cell_type": "markdown",
   "metadata": {},
   "source": [
    "### Below paths you will need to update yourself!\n",
    "\n",
    "\n",
    "In the function write_topol, you will maybe also have to check that the paths for the itp files needed is correct for when writing the top file"
   ]
  },
  {
   "cell_type": "code",
   "execution_count": 2,
   "metadata": {},
   "outputs": [],
   "source": [
    "main_dir = '.'\n",
    "mdp_loc_BL = 'MDPs/'\n",
    "ILs_itp = 'MDPs/ILs.itp'\n",
    "insane = \"insane-ILs.py\"\n",
    "\n",
    "PCG_path = '/projects/DAMM/TS2CG1.1-master/PCG' #This is only applicable for TS2CG1.1\n",
    "packmol = '/projects/DAMM/packmol-20.14.3/packmol'\n",
    "\n",
    "RNA = 'PDBs/RNA.pdb'\n",
    "RNA_itp = 'ITPs/RNA.itp'"
   ]
  },
  {
   "cell_type": "markdown",
   "metadata": {},
   "source": [
    "####  functions"
   ]
  },
  {
   "cell_type": "code",
   "execution_count": 3,
   "metadata": {},
   "outputs": [],
   "source": [
    "def get_radius (x,y,z):\n",
    "    # Calculate the centroid of the cylinder (center axis)\n",
    "    centroid_x = np.mean(x)\n",
    "    centroid_y = np.mean(y)\n",
    "    centroid_z = np.mean(z)\n",
    "\n",
    "    # Calculate the distances from the centroid to each point\n",
    "    distances = np.sqrt((x - centroid_x)**2 + (y - centroid_y)**2 + (z - centroid_z)**2)\n",
    "\n",
    "    # Find the minimum distance, which represents the internal radius of the cylinder\n",
    "    internal_radius = np.min(distances)\n",
    "\n",
    "    return internal_radius\n",
    "\n",
    "def write_packmol_input(channel_radius, noW=1, noCL=1, channel_length=100):\n",
    "    f = open('solvate_channel.inp', 'w') \n",
    "    f.write(f'tolerance 3.0\\nfiletype pdb\\n\\n')\n",
    "        \n",
    "    f.write(f'structure Inner_rna.pdb\\n')\n",
    "    f.write(f'  number 1\\n')\n",
    "    f.write(f'  inside cylinder 0. 0. 0. 0. 0. 1. {(int(channel_radius)*2)+5}. {int(channel_length+10)}.\\n')\n",
    "    f.write(f'end structure\\n')\n",
    "\n",
    "    f.write(f'structure PDBs/water.pdb\\n')\n",
    "    f.write(f'  number {noW}\\n')\n",
    "    f.write(f'  inside cylinder 0. 0. 0. 0. 0. 1. {int(channel_radius)}. {int(channel_length)}.\\n')\n",
    "    f.write(f'end structure\\n')\n",
    "\n",
    "    f.write(f'structure PDBs/CL.pdb\\n')\n",
    "    f.write(f'  number {noCL}\\n')\n",
    "    f.write(f'  inside cylinder 0. 0. 0. 0. 0. 1. {int(channel_radius)}. {int(channel_length)}.\\n')\n",
    "    f.write(f'end structure\\n')\n",
    "            \n",
    "    f.write('output solvate_channel_rna.pdb\\n')\n",
    "    f.close()\n",
    "    return\n",
    "\n",
    "def extract_lines(input_file, pattern):\n",
    "    extracted_lines = []\n",
    "    pattern_found = False\n",
    "\n",
    "    with open(input_file, 'r') as f:\n",
    "        for line in f:\n",
    "            if pattern_found:\n",
    "                extracted_lines.append(line)\n",
    "\n",
    "            if pattern in line:\n",
    "                pattern_found = True\n",
    "\n",
    "    return extracted_lines\n",
    "\n",
    "def write_topol (topol, noW, noCL):\n",
    "    '''Writes out a topol.top file with the solvate channel times 4 including the correct itp files'''\n",
    "    extracted_lines = extract_lines(topol, 'lower monolayer')\n",
    "    \n",
    "    itpDir   = \"ITPs\"\n",
    "    IL_itp   = 'ITPs/ILs.itp'\n",
    "    Sterols  = \"ITPs//martini_v3.0_sterols_v1.0.itp\"    \n",
    "    ffbonded = \"ITPs/martini_v3.0_ffbonded.itp\"\n",
    "    RNA      = 'ITPs/RNA.itp'\n",
    "\n",
    "    with open('topol.top', 'w') as topout:\n",
    "        topout.write(f'#include \"{itpDir}/martini_v3.0.0.itp\"\\n#include \"{ffbonded}\"\\n#include \"{RNA}\"\\n\\\n",
    "#include \"{itpDir}/martini_v3.0.0_phospholipids_v1.itp\"\\\n",
    "\\n#include \"{IL_itp}\"\\n#include \"{Sterols}\"\\n#include \"{itpDir}/martini_v3.0.0_solvents_v1.itp\"\\n\\\n",
    "#include \"{itpDir}/martini_v3.0.0_ions_v1.itp\"\\n')\n",
    "        topout.write(f'[ system ]\\n')\n",
    "        topout.write('Hexagonal phase\\n')\n",
    "        topout.write(f'\\n')\n",
    "        topout.write(f'[ molecules ]\\n')\n",
    "        for i in range(4):\n",
    "                topout.write(f'RNA    1\\n')\n",
    "                for line in extracted_lines:\n",
    "                    topout.write(line)\n",
    "                topout.write(f'W    {noW}\\n')\n",
    "                topout.write(f'CL    {noCL}\\n')\n",
    "    return"
   ]
  },
  {
   "cell_type": "markdown",
   "metadata": {},
   "source": [
    "## Importat note: Please do not proceed if you are not familiar with Packmol."
   ]
  },
  {
   "cell_type": "markdown",
   "metadata": {},
   "source": [
    "### You can learn more about Packmol here: https://m3g.github.io/packmol/userguide.shtml#tutorials"
   ]
  },
  {
   "cell_type": "markdown",
   "metadata": {},
   "source": [
    "#### Note that you may need to tune tolerances, adjust lipid ratios, and make other parameter modifications"
   ]
  },
  {
   "cell_type": "markdown",
   "metadata": {},
   "source": [
    "### **_Step 1_**: Create initial channel"
   ]
  },
  {
   "cell_type": "markdown",
   "metadata": {},
   "source": [
    "##### write input file for pcg"
   ]
  },
  {
   "cell_type": "code",
   "execution_count": 4,
   "metadata": {},
   "outputs": [],
   "source": [
    "O = open('input.str', 'w')\n",
    "\n",
    "O.write(\"[Lipids List]\\n\")\n",
    "O.write(\"Domain 0\\n\")\n",
    "O.write(\"MC3H 0.67  0.67 0.60\\n\")\n",
    "O.write(\"CHOL 0.33  0.33 0.60\\n\")\n",
    "O.write(\"End\\n\")\n",
    "O.write(\"\\n\")\n",
    "O.write(\"[Shape Data]\\n\")\n",
    "O.write(\"ShapeType Cylinder\\n\")\n",
    "O.write(\"Box 10 10 10\\n\")\n",
    "O.write(\"Density 2\\n\")\n",
    "O.write(\"Thickness 2\\n\")\n",
    "O.write(\"Radius 3\\n\")\n",
    "O.write(\"End\\n\")\n",
    "O.close()"
   ]
  },
  {
   "cell_type": "markdown",
   "metadata": {},
   "source": [
    "##### Build the cylinder with PCG"
   ]
  },
  {
   "cell_type": "code",
   "execution_count": 6,
   "metadata": {},
   "outputs": [
    {
     "name": "stdout",
     "output_type": "stream",
     "text": [
      "==============  PCG membrane builder: from function to membrane ======================\n",
      "****************** CG Membrane builder ******************   \n",
      "******************  Version:  1.1 ****************** \n",
      "==========================================================================================================\n",
      "[Lipids List]\n",
      "Domain 0\n",
      "MC3H 0.67  0.67 0.60\n",
      "CHOL 0.33  0.33 0.60\n",
      "End\n",
      "\n",
      "[Shape Data]\n",
      "ShapeType Cylinder\n",
      "vesicle will be made \n",
      "--> Generating molecule types from  input.str  file\n",
      "--> Note: the lipids will be generated from < Martini Map CG> Lipid Library, of version:  Martini 3\n",
      "--> This library contains 145 lipid types \n",
      "--> Note: the total upper monolayer area is 251.327 and the total lower monolayer area is 125.664\n",
      " now is time to add the lipids \n",
      " Number of the domains defined in the input file  1\n",
      "***************************  we aim to generate  ********************** \n",
      "*     For domain with ID 0 \n",
      "*     280  MC3H     \n",
      "*     138  CHOL     \n",
      "   in the upper monolayer \n",
      "*     For domain with ID 0 \n",
      "*     140  MC3H     \n",
      "*     69  CHOL     \n",
      "   in the lower monolayer \n",
      "*************************** Number of created Lipids,   ********************** \n",
      "*     For domain with ID 0 \n",
      "*     280  MC3H     \n",
      "*     138  CHOL     \n",
      "   in the upper monolayer \n",
      "*     For domain with ID 0 \n",
      "*     140  MC3H     \n",
      "*     69  CHOL     \n",
      "   in the lower monolayer \n"
     ]
    },
    {
     "data": {
      "text/plain": [
       "0"
      ]
     },
     "execution_count": 6,
     "metadata": {},
     "output_type": "execute_result"
    }
   ],
   "source": [
    "p = subprocess.Popen(f\"{PCG_path} -str input.str -Bondlength 0.2 -LLIB Martini3.LIB -defout system -function analytical_shape\"\n",
    "                    , stdin=subprocess.PIPE, shell=True, universal_newlines=True)\n",
    "p.wait()"
   ]
  },
  {
   "cell_type": "markdown",
   "metadata": {},
   "source": [
    "##### Extract the inner leaflet for continuation"
   ]
  },
  {
   "cell_type": "code",
   "execution_count": 7,
   "metadata": {},
   "outputs": [
    {
     "name": "stderr",
     "output_type": "stream",
     "text": [
      "/DAMM/hosts/damm085/data1/mvalerio/my_env3.11/lib/python3.11/site-packages/MDAnalysis/coordinates/PDB.py:1154: UserWarning: Found no information for attr: 'altLocs' Using default value of ' '\n",
      "  warnings.warn(\"Found no information for attr: '{}'\"\n",
      "/DAMM/hosts/damm085/data1/mvalerio/my_env3.11/lib/python3.11/site-packages/MDAnalysis/coordinates/PDB.py:1154: UserWarning: Found no information for attr: 'icodes' Using default value of ' '\n",
      "  warnings.warn(\"Found no information for attr: '{}'\"\n",
      "/DAMM/hosts/damm085/data1/mvalerio/my_env3.11/lib/python3.11/site-packages/MDAnalysis/coordinates/PDB.py:1154: UserWarning: Found no information for attr: 'chainIDs' Using default value of ''\n",
      "  warnings.warn(\"Found no information for attr: '{}'\"\n",
      "/DAMM/hosts/damm085/data1/mvalerio/my_env3.11/lib/python3.11/site-packages/MDAnalysis/coordinates/PDB.py:1154: UserWarning: Found no information for attr: 'occupancies' Using default value of '1.0'\n",
      "  warnings.warn(\"Found no information for attr: '{}'\"\n",
      "/DAMM/hosts/damm085/data1/mvalerio/my_env3.11/lib/python3.11/site-packages/MDAnalysis/coordinates/PDB.py:1154: UserWarning: Found no information for attr: 'tempfactors' Using default value of '0.0'\n",
      "  warnings.warn(\"Found no information for attr: '{}'\"\n",
      "/DAMM/hosts/damm085/data1/mvalerio/my_env3.11/lib/python3.11/site-packages/MDAnalysis/coordinates/PDB.py:1154: UserWarning: Found no information for attr: 'elements' Using default value of ' '\n",
      "  warnings.warn(\"Found no information for attr: '{}'\"\n",
      "/DAMM/hosts/damm085/data1/mvalerio/my_env3.11/lib/python3.11/site-packages/MDAnalysis/coordinates/PDB.py:1154: UserWarning: Found no information for attr: 'record_types' Using default value of 'ATOM'\n",
      "  warnings.warn(\"Found no information for attr: '{}'\"\n",
      "/DAMM/hosts/damm085/data1/mvalerio/my_env3.11/lib/python3.11/site-packages/MDAnalysis/coordinates/PDB.py:1154: UserWarning: Found no information for attr: 'formalcharges' Using default value of '0'\n",
      "  warnings.warn(\"Found no information for attr: '{}'\"\n",
      "/DAMM/hosts/damm085/data1/mvalerio/my_env3.11/lib/python3.11/site-packages/MDAnalysis/coordinates/PDB.py:1201: UserWarning: Found missing chainIDs. Corresponding atoms will use value of 'X'\n",
      "  warnings.warn(\"Found missing chainIDs.\"\n"
     ]
    }
   ],
   "source": [
    "u = md.Universe('system.gro')\n",
    "\n",
    "L = LeafletFinder(u, 'name NP N1 ROH', cutoff=15)\n",
    "\n",
    "inner_res = ' '.join(f'{i}' for i in L.groups()[1].resids)\n",
    "inner = u.select_atoms(f'resid {inner_res}')\n",
    "inner.atoms.write('Inner.pdb')"
   ]
  },
  {
   "cell_type": "markdown",
   "metadata": {},
   "source": [
    "##### solvate one channel and add neutralizing ions using packmol"
   ]
  },
  {
   "cell_type": "code",
   "execution_count": 8,
   "metadata": {},
   "outputs": [
    {
     "name": "stderr",
     "output_type": "stream",
     "text": [
      "/DAMM/hosts/damm085/data1/mvalerio/my_env3.11/lib/python3.11/site-packages/MDAnalysis/topology/PDBParser.py:350: UserWarning: Element information is missing, elements attribute will not be populated. If needed these can be guessed using universe.guess_TopologyAttrs(context='default', to_guess=['elements']).\n",
      "  warnings.warn(\"Element information is missing, elements attribute \"\n"
     ]
    }
   ],
   "source": [
    "u = md.Universe('Inner.pdb')\n",
    "sel = u.select_atoms('name N1 NP ROH')\n",
    "sel_lipid = u.select_atoms('name N1 NP')\n",
    "R = get_radius(sel.positions[:,0], sel.positions[:,1], sel.positions[:,2]) - 4 #radius of the channel, trying to substract 2 angstorm to avoid clashing"
   ]
  },
  {
   "cell_type": "markdown",
   "metadata": {},
   "source": [
    "#### Insert RNA"
   ]
  },
  {
   "cell_type": "code",
   "execution_count": 9,
   "metadata": {},
   "outputs": [],
   "source": [
    "rna = md.Universe(RNA)\n",
    "rna.atoms.positions = rna.atoms.positions - rna.atoms.center_of_mass()"
   ]
  },
  {
   "cell_type": "code",
   "execution_count": 10,
   "metadata": {},
   "outputs": [
    {
     "name": "stderr",
     "output_type": "stream",
     "text": [
      "/DAMM/hosts/damm085/data1/mvalerio/my_env3.11/lib/python3.11/site-packages/MDAnalysis/coordinates/PDB.py:777: UserWarning: Unit cell dimensions not found. CRYST1 record set to unitary values.\n",
      "  warnings.warn(\"Unit cell dimensions not found. \"\n"
     ]
    }
   ],
   "source": [
    "u.atoms.positions = u.atoms.positions - u.atoms.center_of_mass()\n",
    "sys_rna = md.Merge(rna.select_atoms('all'), u.select_atoms('all'))\n",
    "sys_rna.atoms.write('Inner_rna.pdb')"
   ]
  },
  {
   "cell_type": "code",
   "execution_count": 11,
   "metadata": {},
   "outputs": [
    {
     "name": "stderr",
     "output_type": "stream",
     "text": [
      "/DAMM/hosts/damm085/data1/mvalerio/my_env3.11/lib/python3.11/site-packages/MDAnalysis/coordinates/PDB.py:453: UserWarning: 1 A^3 CRYST1 record, this is usually a placeholder. Unit cell dimensions will be set to None.\n",
      "  warnings.warn(\"1 A^3 CRYST1 record,\"\n"
     ]
    }
   ],
   "source": [
    "u = md.Universe('Inner_rna.pdb')"
   ]
  },
  {
   "cell_type": "code",
   "execution_count": 12,
   "metadata": {},
   "outputs": [],
   "source": [
    "sel = u.select_atoms('name N1 NP ROH')\n",
    "bb = u.select_atoms('name BB')"
   ]
  },
  {
   "cell_type": "code",
   "execution_count": 13,
   "metadata": {},
   "outputs": [],
   "source": [
    "hydration = 3 #water beads per lipids, hence 12 water molecules per lipid. This is based on the paper with Nadine\n",
    "noL = sel.resids.shape[0]\n",
    "noCL = sel_lipid.resids.shape[0] - bb.resids.shape[0]\n",
    "noW = (noL*hydration) - noCL"
   ]
  },
  {
   "cell_type": "code",
   "execution_count": 14,
   "metadata": {},
   "outputs": [],
   "source": [
    "write_packmol_input(R, noW=noW, noCL=noCL)"
   ]
  },
  {
   "cell_type": "markdown",
   "metadata": {},
   "source": [
    "##### Run packmol - Only use packmol for solvate and add ions"
   ]
  },
  {
   "cell_type": "code",
   "execution_count": 15,
   "metadata": {
    "scrolled": true
   },
   "outputs": [
    {
     "name": "stdout",
     "output_type": "stream",
     "text": [
      "\n",
      "################################################################################\n",
      "\n",
      " PACKMOL - Packing optimization for the automated generation of\n",
      " starting configurations for molecular dynamics simulations.\n",
      " \n",
      "                                                              Version 20.14.3 \n",
      "\n",
      "################################################################################\n",
      "\n",
      "  Packmol must be run with: packmol < inputfile.inp \n",
      "\n",
      "  Userguide at: http://m3g.iqm.unicamp.br/packmol \n",
      "\n",
      "  Reading input file... (Control-C aborts)\n",
      "  Types of coordinate files specified: pdb\n",
      "  Seed for random number generator:      1234567\n",
      "  Output file: solvate_channel_rna.pdb\n",
      "  Reading coordinate file: Inner_rna.pdb\n",
      "  Reading coordinate file: PDBs/water.pdb\n",
      "  Reading coordinate file: PDBs/CL.pdb\n",
      "  Number of independent structures:            3\n",
      "  The structures are: \n",
      "  Structure            1 :Inner_rna.pdb(        2658  atoms)\n",
      "  Structure            2 :PDBs/water.pdb(           1  atoms)\n",
      "  Structure            3 :PDBs/CL.pdb(           1  atoms)\n",
      "  Maximum number of GENCAN loops for all molecule packing:          600\n",
      "  Total number of restrictions:            3\n",
      "  Distance tolerance:    3.0000000000000000     \n",
      "  Warning: Type of residue numbering not set for structure            1\n",
      "  Residue numbering set for structure            1 :           1\n",
      "  Swap chains of molecules of structure            1 : F\n",
      "  Warning: Type of residue numbering not set for structure            2\n",
      "  Residue numbering set for structure            2 :           0\n",
      "  Swap chains of molecules of structure            2 : F\n",
      "  Warning: Type of residue numbering not set for structure            3\n",
      "  Residue numbering set for structure            3 :           0\n",
      "  Swap chains of molecules of structure            3 : F\n",
      "  Number of molecules of type            1 :            1\n",
      "  Number of molecules of type            2 :          529\n",
      "  Number of molecules of type            3 :           98\n",
      "  Total number of atoms:         3285\n",
      "  Total number of molecules:          628\n",
      "  Number of fixed molecules:            0\n",
      "  Number of free molecules:          628\n",
      "  Number of variables:         3768\n",
      "  Total number of fixed atoms:            0\n",
      "  Maximum internal distance of type            1 :    115.70635332599502     \n",
      "  Maximum internal distance of type            2 :    0.0000000000000000     \n",
      "  Maximum internal distance of type            3 :    0.0000000000000000     \n",
      "  All atoms must be within these coordinates: \n",
      "   x: [   -1000.2731849863253      ,    999.72681501367470       ] \n",
      "   y: [   -997.58583627567862      ,    1002.4141637243214       ] \n",
      "   z: [   -952.28974431976042      ,    1047.7102556802397       ] \n",
      "  If the system is larger than this, increase the sidemax parameter. \n",
      "\n",
      "################################################################################\n",
      "\n",
      "  Building initial approximation ... \n",
      "\n",
      "################################################################################\n",
      "\n",
      "  Adjusting initial point to fit the constraints \n",
      "\n",
      "--------------------------------------------------------------------------------\n",
      "\n",
      "--------------------------------------------------------------------------------\n",
      "\n",
      "  Molecules of type:            1\n",
      "\n",
      "  Packing:|0                                                             100%|\n",
      "          |******************************************************************|\n",
      "          |******************************************************************|\n",
      "  Fixing bad orientations ...      1 of     60\n",
      "  Moving worst molecules ... \n",
      "  Function value before moving molecules:   2446.1374238847038     \n",
      "  Type         1 molecules with non-zero contributions:  100.00%\n",
      "  Moving         1 molecules of type         1\n",
      "  New positions will be based on good molecules (movebadrandom is not set) \n",
      "   Moving:|0                                                             100%|\n",
      "          |******************************************************************|\n",
      "  Function value after moving molecules:  0.36513498325249849     \n",
      "  Packing:|0                                                             100%|\n",
      "          |*********************\n",
      "\n",
      "  Restraint-only function value:    1.6810924573142618E-002\n",
      "  Maximum violation of the restraints:    6.3315626865720264E-003\n",
      "\n",
      "--------------------------------------------------------------------------------\n",
      "\n",
      "  Molecules of type:            2\n",
      "\n",
      "  Packing:|0                                                             100%|\n",
      "          |******************************************************************|\n",
      "          |*********************\n",
      "\n",
      "  Restraint-only function value:    2.9440433658220504E-004\n",
      "  Maximum violation of the restraints:    2.0058396417211408E-004\n",
      "\n",
      "--------------------------------------------------------------------------------\n",
      "\n",
      "  Molecules of type:            3\n",
      "\n",
      "  Packing:|0                                                             100%|\n",
      "          |******************************************************************|\n",
      "          |*********************\n",
      "\n",
      "  Restraint-only function value:    4.6088056203674775E-003\n",
      "  Maximum violation of the restraints:    6.0219604432125028E-004\n",
      "\n",
      "--------------------------------------------------------------------------------\n",
      "\n",
      "  Rescaling maximum and minimum coordinates... \n",
      "  Computing size of patches... \n",
      "  Add fixed molecules to permanent arrays... \n",
      "  Reseting center of mass... \n",
      "\n",
      "--------------------------------------------------------------------------------\n",
      "\n",
      "  Setting initial trial coordinates ... \n",
      "\n",
      "--------------------------------------------------------------------------------\n",
      "\n",
      "--------------------------------------------------------------------------------\n",
      "\n",
      "  Molecules of type:            1\n",
      "  Adjusting random positions to fit the constraints. \n",
      "  Packing:|0                                                             100%|\n",
      "          |********************************************************\n",
      "  Restraint-only function value:    1.8584277516727126E-002\n",
      "  Maximum violation of the restraints:    9.5054370097034796E-003\n",
      "\n",
      "--------------------------------------------------------------------------------\n",
      "\n",
      "  Molecules of type:            2\n",
      "  Adjusting random positions to fit the constraints. \n",
      "  Restraint-only function value:    8.7942746008672166E-004\n",
      "  Maximum violation of the restraints:    8.7942746008672166E-004\n",
      "\n",
      "--------------------------------------------------------------------------------\n",
      "\n",
      "  Molecules of type:            3\n",
      "  Adjusting random positions to fit the constraints. \n",
      "  Restraint-only function value:    0.0000000000000000     \n",
      "  Maximum violation of the restraints:    0.0000000000000000     \n",
      "\n",
      "################################################################################\n",
      "\n",
      "  Objective function at initial point:    11675.144598568582     \n",
      "\n",
      "################################################################################\n",
      "\n",
      "  Packing molecules of type:            1\n",
      "\n",
      "################################################################################\n",
      "\n",
      "\n",
      "  Initial approximation is a solution. Nothing to do. \n",
      "\n",
      "  Current point written to file: solvate_channel_rna.pdb\n",
      "--------------------------------------------------------------------------------\n",
      "  Packing solved for molecules of type           1\n",
      "  Objective function value:    1.8584277516727126E-002\n",
      "  Maximum violation of target distance:    0.0000000000000000     \n",
      "  Max. constraint violation:    9.5054370097034796E-003\n",
      "--------------------------------------------------------------------------------\n",
      "\n",
      "################################################################################\n",
      "\n",
      "  Packing molecules of type:            2\n",
      "\n",
      "################################################################################\n",
      "\n",
      "\n",
      "--------------------------------------------------------------------------------\n",
      "\n",
      "  Starting GENCAN loop:            0\n",
      "  Scaling radii by:    1.1000000000000001     \n",
      "\n",
      "  Packing:|0                                                             100%|\n",
      "          |********************************************************\n",
      "\n",
      "  Function value from last GENCAN loop: f = .86775E-02\n",
      "  Best function value before: f = .37706E+04\n",
      "  Improvement from best function value:    99.99 %\n",
      "  Improvement from last loop:    99.99 %\n",
      "  Maximum violation of target distance:     0.000000\n",
      "  Maximum violation of the constraints: .48758E-02\n",
      "  Current structure written to file: solvate_channel_rna.pdb\n",
      "--------------------------------------------------------------------------------\n",
      "  Packing solved for molecules of type           2\n",
      "  Objective function value:    8.6774560509157717E-003\n",
      "  Maximum violation of target distance:    0.0000000000000000     \n",
      "  Max. constraint violation:    4.8757955708913807E-003\n",
      "--------------------------------------------------------------------------------\n",
      "\n",
      "################################################################################\n",
      "\n",
      "  Packing molecules of type:            3\n",
      "\n",
      "################################################################################\n",
      "\n",
      "\n",
      "--------------------------------------------------------------------------------\n",
      "\n",
      "  Starting GENCAN loop:            0\n",
      "  Scaling radii by:    1.1000000000000001     \n",
      "\n",
      "  Packing:|0                                                             100%|\n",
      "          |*********************\n",
      "\n",
      "  Function value from last GENCAN loop: f = .15703E-04\n",
      "  Best function value before: f = .19377E+03\n",
      "  Improvement from best function value:    99.99 %\n",
      "  Improvement from last loop:    99.99 %\n",
      "  Maximum violation of target distance:     0.000000\n",
      "  Maximum violation of the constraints: .15703E-04\n",
      "  Current structure written to file: solvate_channel_rna.pdb\n",
      "--------------------------------------------------------------------------------\n",
      "  Packing solved for molecules of type           3\n",
      "  Objective function value:    1.5702786416134253E-005\n",
      "  Maximum violation of target distance:    0.0000000000000000     \n",
      "  Max. constraint violation:    1.5702778113094882E-005\n",
      "--------------------------------------------------------------------------------\n",
      "\n",
      "################################################################################\n",
      "\n",
      "  Packing all molecules together \n",
      "\n",
      "################################################################################\n",
      "\n",
      "\n",
      "--------------------------------------------------------------------------------\n",
      "\n",
      "  Starting GENCAN loop:            0\n",
      "  Scaling radii by:    1.1000000000000001     \n",
      "\n",
      "  Packing:|0                                                             100%|\n",
      "          |******************************************************************|\n",
      "****************************************************|\n",
      "\n",
      "  Function value from last GENCAN loop: f = .76709E+02\n",
      "  Best function value before: f = .82965E+04\n",
      "  Improvement from best function value:    99.08 %\n",
      "  Improvement from last loop:    99.08 %\n",
      "  Maximum violation of target distance:     5.149065\n",
      "  Maximum violation of the constraints: .84093E+01\n",
      "\n",
      "--------------------------------------------------------------------------------\n",
      "\n",
      "\n",
      "--------------------------------------------------------------------------------\n",
      "\n",
      "  Starting GENCAN loop:            1\n",
      "  Scaling radii by:    1.1000000000000001     \n",
      "\n",
      "  Packing:|0                                                             100%|\n",
      "****************************************************|\n",
      "***********************************************************|\n",
      "\n",
      "  Function value from last GENCAN loop: f = .54105E-01\n",
      "  Best function value before: f = .76709E+02\n",
      "  Improvement from best function value:    99.93 %\n",
      "  Improvement from last loop:    99.93 %\n",
      "  Maximum violation of target distance:     0.000000\n",
      "  Maximum violation of the constraints: .36744E-01\n",
      "\n",
      "--------------------------------------------------------------------------------\n",
      "\n",
      "\n",
      "--------------------------------------------------------------------------------\n",
      "\n",
      "  Starting GENCAN loop:            2\n",
      "  Scaling radii by:    1.1000000000000001     \n",
      "\n",
      "  Packing:|0                                                             100%|\n",
      "          |******************************************************************|\n",
      "          |******************************************************************|\n",
      "\n",
      "  Function value from last GENCAN loop: f = .52660E-01\n",
      "  Best function value before: f = .54105E-01\n",
      "  Improvement from best function value:     2.67 %\n",
      "  Improvement from last loop:     2.67 %\n",
      "  Maximum violation of target distance:     0.000000\n",
      "  Maximum violation of the constraints: .35320E-01\n",
      "\n",
      "--------------------------------------------------------------------------------\n",
      "\n",
      "  Moving worst molecules ... \n",
      "  Function value before moving molecules:   5.2659781240261570E-002\n",
      "  Type         1 molecules with non-zero contributions:    0.00%\n",
      "  Type         2 molecules with non-zero contributions:    0.19%\n",
      "  Moving         1 molecules of type         2\n",
      "  New positions will be based on good molecules (movebadrandom is not set) \n",
      "   Moving:|0                                                             100%|\n",
      "          |******************************************************************|\n",
      "  Type         3 molecules with non-zero contributions:    0.00%\n",
      "  Function value after moving molecules:   79.118916102699330     \n",
      "\n",
      "--------------------------------------------------------------------------------\n",
      "\n",
      "  Starting GENCAN loop:            3\n",
      "  Scaling radii by:    1.0000000000000000     \n",
      "\n",
      "  Packing:|0                                                             100%|\n",
      "          |******************************************************************|\n",
      "          |\n",
      "\n",
      "  Function value from last GENCAN loop: f = .19832E-01\n",
      "  Best function value before: f = .52660E-01\n",
      "  Improvement from best function value:    62.34 %\n",
      "  Improvement from last loop:    99.97 %\n",
      "  Maximum violation of target distance:     0.008647\n",
      "  Maximum violation of the constraints: .48652E-02\n",
      "\n",
      "################################################################################\n",
      "\n",
      "                                 Success! \n",
      "              Final objective function value: .19832E-01\n",
      "              Maximum violation of target distance:   0.008647\n",
      "              Maximum violation of the constraints: .48652E-02\n",
      "\n",
      "--------------------------------------------------------------------------------\n",
      "\n",
      "              Please cite this work if Packmol was useful: \n",
      "\n",
      "           L. Martinez, R. Andrade, E. G. Birgin, J. M. Martinez, \n",
      "         PACKMOL: A package for building initial configurations for\n",
      "                   molecular dynamics simulations. \n",
      "          Journal of Computational Chemistry, 30:2157-2164,2009.\n",
      "\n",
      "################################################################################\n",
      "\n",
      "  Solution written to file: solvate_channel_rna.pdb\n",
      "\n",
      "--------------------------------------------------------------------------------\n",
      "\n",
      "   Running time:    1.80066299      seconds. \n",
      "\n",
      "--------------------------------------------------------------------------------\n",
      "\n",
      "\n"
     ]
    },
    {
     "data": {
      "text/plain": [
       "0"
      ]
     },
     "execution_count": 15,
     "metadata": {},
     "output_type": "execute_result"
    }
   ],
   "source": [
    "os.system(f'{packmol} < solvate_channel.inp')"
   ]
  },
  {
   "cell_type": "markdown",
   "metadata": {},
   "source": [
    "##### Dublicate the channel 4 times "
   ]
  },
  {
   "cell_type": "code",
   "execution_count": 39,
   "metadata": {
    "scrolled": true
   },
   "outputs": [
    {
     "name": "stdout",
     "output_type": "stream",
     "text": [
      "Note that major changes are planned in future for editconf, to improve usability and utility.\n",
      "Read 3285 atoms\n",
      "No velocities found\n",
      "    system size :  6.389  6.402 10.139 (nm)\n",
      "    center      :  0.325  0.016  4.982 (nm)\n",
      "    box vectors :  0.000  0.000  0.000 (nm)\n",
      "    box angles  :   0.00   0.00   0.00 (degrees)\n",
      "    box volume  :   0.00               (nm^3)\n",
      "    shift       :  3.575  2.236 -0.332 (nm)\n",
      "new center      :  3.900  2.252  4.650 (nm)\n",
      "new box vectors :  5.200  5.200  9.300 (nm)\n",
      "new box angles  :  90.00  90.00  60.00 (degrees)\n",
      "new box volume  : 217.78               (nm^3)\n"
     ]
    },
    {
     "name": "stderr",
     "output_type": "stream",
     "text": [
      "             :-) GROMACS - gmx editconf, 2022.5-Debian_2022.5_2 (-:\n",
      "\n",
      "Executable:   /usr/bin/gmx\n",
      "Data prefix:  /usr\n",
      "Working dir:  /DAMM/hosts/damm085/data1/mvalerio/Lisbeth/Ostrava_Workshop\n",
      "Command line:\n",
      "  gmx editconf -f solvate_channel_rna.pdb -box 5.2 5.2 9.3 -o channel_solvated_combined.gro -bt triclinic -c -angles 90 90 60\n",
      "\n",
      "\n",
      "Back Off! I just backed up channel_solvated_combined.gro to ./#channel_solvated_combined.gro.1#\n",
      "\n",
      "GROMACS reminds you: \"I Quit My Job Blowing Leaves\" (Beck)\n",
      "\n",
      "             :-) GROMACS - gmx genconf, 2022.5-Debian_2022.5_2 (-:\n",
      "\n",
      "Executable:   /usr/bin/gmx\n",
      "Data prefix:  /usr\n",
      "Working dir:  /DAMM/hosts/damm085/data1/mvalerio/Lisbeth/Ostrava_Workshop\n",
      "Command line:\n",
      "  gmx genconf -f channel_solvated_combined.gro -o dublicate.gro -nbox 2 2 1 -dist 1\n",
      "\n",
      "\n",
      "Back Off! I just backed up dublicate.gro to ./#dublicate.gro.1#\n",
      "\n",
      "GROMACS reminds you: \"I Quit My Job Blowing Leaves\" (Beck)\n",
      "\n"
     ]
    },
    {
     "data": {
      "text/plain": [
       "0"
      ]
     },
     "execution_count": 39,
     "metadata": {},
     "output_type": "execute_result"
    }
   ],
   "source": [
    "os.system('gmx editconf -f solvate_channel_rna.pdb -box 5.2 5.2 9.3 -o channel_solvated_combined.gro -bt triclinic -c -angles 90 90 60')\n",
    "os.system('gmx genconf -f channel_solvated_combined.gro -o dublicate.gro -nbox 2 2 1 -dist 1')"
   ]
  },
  {
   "cell_type": "markdown",
   "metadata": {},
   "source": [
    "##### Write topol.top"
   ]
  },
  {
   "cell_type": "code",
   "execution_count": 40,
   "metadata": {},
   "outputs": [],
   "source": [
    "write_topol('system.top', noW, noCL)"
   ]
  },
  {
   "cell_type": "markdown",
   "metadata": {},
   "source": [
    "## Important note: Please do not proceed if you are not familiar with GROMACS."
   ]
  },
  {
   "cell_type": "markdown",
   "metadata": {},
   "source": [
    "### You can learn more about GROMACS here: http://www.mdtutorials.com/gmx/"
   ]
  },
  {
   "cell_type": "markdown",
   "metadata": {},
   "source": [
    "#### Note that you may need to tune some .mdp parameters based on the GROMACS version being used."
   ]
  },
  {
   "cell_type": "markdown",
   "metadata": {},
   "source": [
    "### **_Step 2_**: Minimize System"
   ]
  },
  {
   "cell_type": "code",
   "execution_count": 41,
   "metadata": {},
   "outputs": [
    {
     "data": {
      "text/plain": [
       "0"
      ]
     },
     "execution_count": 41,
     "metadata": {},
     "output_type": "execute_result"
    }
   ],
   "source": [
    "p = subprocess.Popen(f\"gmx grompp -f {mdp_loc_BL}/min.mdp -c dublicate.gro -p topol.top -o m.tpr -maxwarn 1\"\n",
    "                    , stdin=subprocess.PIPE, shell=True, universal_newlines=True, stdout=subprocess.DEVNULL, stderr=subprocess.STDOUT)\n",
    "p.wait()"
   ]
  },
  {
   "cell_type": "code",
   "execution_count": 42,
   "metadata": {},
   "outputs": [
    {
     "data": {
      "text/plain": [
       "0"
      ]
     },
     "execution_count": 42,
     "metadata": {},
     "output_type": "execute_result"
    }
   ],
   "source": [
    "p = subprocess.Popen(f\"gmx mdrun -v -deffnm m -ntomp 5 -ntmpi 2\"\n",
    "                    , stdin=subprocess.PIPE, shell=True, universal_newlines=True, stdout=subprocess.DEVNULL, stderr=subprocess.STDOUT)\n",
    "p.wait()"
   ]
  },
  {
   "cell_type": "code",
   "execution_count": 44,
   "metadata": {},
   "outputs": [],
   "source": [
    "### Create the index file\n",
    "gro = 'm.gro'\n",
    "u = md.Universe(gro)\n",
    "lipidsagg=u.select_atoms('resname MC3H LI2H CHOL A')\n",
    "solventagg=u.select_atoms('not resname MC3H LI2H CHOL A')\n",
    "lipidsagg.write(\"index.ndx\", mode=\"w\", name= 'Lipids')\n",
    "solventagg.write(\"index.ndx\", mode=\"a\", name= 'Solvent')\n",
    "u.atoms.write(\"index.ndx\", mode=\"a\", name= 'System')\n"
   ]
  },
  {
   "cell_type": "code",
   "execution_count": null,
   "metadata": {},
   "outputs": [],
   "source": []
  }
 ],
 "metadata": {
  "kernelspec": {
   "display_name": "Python 3 (ipykernel)",
   "language": "python",
   "name": "python3"
  },
  "language_info": {
   "codemirror_mode": {
    "name": "ipython",
    "version": 3
   },
   "file_extension": ".py",
   "mimetype": "text/x-python",
   "name": "python",
   "nbconvert_exporter": "python",
   "pygments_lexer": "ipython3",
   "version": "3.12.2"
  }
 },
 "nbformat": 4,
 "nbformat_minor": 4
}
