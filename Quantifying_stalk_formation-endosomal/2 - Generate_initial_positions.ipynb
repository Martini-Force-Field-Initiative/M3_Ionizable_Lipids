{
 "cells": [
  {
   "cell_type": "markdown",
   "metadata": {
    "tags": []
   },
   "source": [
    "## Generate Initial Positions\n",
    "==============================================================================================="
   ]
  },
  {
   "cell_type": "code",
   "execution_count": 2,
   "metadata": {},
   "outputs": [],
   "source": [
    "import numpy as np\n",
    "import MDAnalysis as md\n",
    "from MDAnalysis.analysis import align\n",
    "import subprocess\n",
    "import os\n",
    "from MDAnalysis.analysis.leaflet import LeafletFinder"
   ]
  },
  {
   "cell_type": "code",
   "execution_count": 3,
   "metadata": {},
   "outputs": [],
   "source": [
    "## Define paths to forcefield files and mdp files\n",
    "ff_loc  = 'ff_itps/'\n",
    "mdp_loc = 'mdps/'\n",
    "\n",
    "## Define path to current directory\n",
    "current_dir = '.'\n",
    "\n",
    "## Define path to the directory where the stacked system was built\n",
    "build_dir = '..'"
   ]
  },
  {
   "cell_type": "code",
   "execution_count": 4,
   "metadata": {
    "tags": []
   },
   "outputs": [],
   "source": [
    "def run_normal(num_slices, normal_dir, tail_bead, water_bead, umbrella_dist=0.1, umbrella_strength=0, pull_rate=0):\n",
    "        ### Create folder to run normal\n",
    "    if not os.path.exists(f'{normal_dir}'):\n",
    "        os.makedirs(f'{normal_dir}')\n",
    "        \n",
    "    os.chdir(f'{normal_dir}')\n",
    "    \n",
    "    ###### Generate running .sh file\n",
    "    os.system(f\"echo '#!/bin/bash\\n\\\n",
    "    source /projects/DAMM/gromacs/avx2256/gromacs-chain-coordinate/bin/GMXRC \\n\\\n",
    "    #\\n\\\n",
    "    # Set Chain coordinate parameters\\n\\\n",
    "    #\\n\\\n",
    "    export SLICE_COORD_N={num_slices}               # Number of slices. Important!\\n\\\n",
    "                                          # The cylinder should be long enough, such that xi[ch]~0.2 in the state of a flat membrane\\n\\\n",
    "    export SLICE_COORD_CYL_R=1.2          # Cylinder Radius\\n\\\n",
    "    export SLICE_COORD_D=0.1              # Slice thickness (default value)\\n\\\n",
    "    export SLICE_COORD_ZETA=0.75          # Degree to which slice is filled upon addition of the first atom (default value)\\n\\\n",
    "    export SLICE_COORD_NST_OUTPUT=5000    # Output frequency on chain coord written by mdrun to stdout\\n\\\n",
    "    export SLICE_COORD_FREEZE_CYLINDER=0  # Dot not freeze cylinder (default), allow cylinder to travel in the membrane plane\\n\\n\\\n",
    "    rm -f mdout.mdp topol.tpr\\n\\\n",
    "    gmx grompp -c {build_dir}/eq1.gro -p {build_dir}/system_W.top -r {build_dir}/restraint_reference.gro -n {build_dir}/index.ndx -f normal.mdp\\n\\n\\\n",
    "    rm -f pullx.xvg pullf.xvg *cpt md.log ener.edr traj_comp.xtc confout.gro\\n\\\n",
    "    gmx mdrun -v -nt 10'  > normal_membrane.sh\")\n",
    "    \n",
    "\n",
    "    #### Edit .mdp file\n",
    "    with open('common_files/md_template_1us.mdp', 'r') as f:\n",
    "        ogfile= f.read()\n",
    "    newfile=ogfile.replace('XXX', str(umbrella_dist))\n",
    "    newfile=newfile.replace('YYY', str(umbrella_strength))\n",
    "    newfile=newfile.replace('TTT', str(tail_bead))\n",
    "    newfile=newfile.replace('WWW', str(water_bead))\n",
    "    newfile=newfile.replace('RRR', str(pull_rate))\n",
    "    with open('normal.mdp', 'w') as f:\n",
    "        f.write(newfile)\n",
    "\n",
    "    os.system('chmod +x normal_membrane.sh')\n",
    "    #os.system('./normal_membrane.sh')\n",
    "    os.chdir(f'{current_dir}')\n",
    "    \n",
    "    return print('All done')"
   ]
  },
  {
   "cell_type": "code",
   "execution_count": 5,
   "metadata": {
    "tags": []
   },
   "outputs": [],
   "source": [
    "def run_pulling(num_slices, tail_bead, water_bead, umbrella_dist=0.1, umbrella_strength=3000, pull_rate=1.5e-06):\n",
    "    ###### Generate running .sh file\n",
    "    os.system(f\"echo '#!/bin/bash\\n\\\n",
    "    source /projects/DAMM/gromacs/avx2256/gromacs-chain-coordinate/bin/GMXRC \\n\\\n",
    "    #\\n\\\n",
    "    # Set Chain coordinate parameters\\n\\\n",
    "    #\\n\\\n",
    "    export SLICE_COORD_N={num_slices}               # Number of slices. Important!\\n\\\n",
    "                                          # The cylinder should be long enough, such that xi[ch]~0.2 in the state of a flat membrane\\n\\\n",
    "    export SLICE_COORD_CYL_R=1.2          # Cylinder Radius\\n\\\n",
    "    export SLICE_COORD_D=0.1              # Slice thickness (default value)\\n\\\n",
    "    export SLICE_COORD_ZETA=0.75          # Degree to which slice is filled upon addition of the first atom (default value)\\n\\\n",
    "    export SLICE_COORD_NST_OUTPUT=5000    # Output frequency on chain coord written by mdrun to stdout\\n\\\n",
    "    export SLICE_COORD_FREEZE_CYLINDER=0  # Dot not freeze cylinder (default), allow cylinder to travel in the membrane plane\\n\\n\\\n",
    "    rm -f mdout.mdp topol.tpr\\n\\\n",
    "    gmx grompp -c {build_dir}/eq1.gro -r {build_dir}/restraint_reference.gro -p {build_dir}/system_W.top -n {build_dir}/index.ndx -f pull.mdp\\n\\n\\\n",
    "    rm -f pullx.xvg pullf.xvg *cpt md.log ener.edr traj_comp.xtc confout.gro\\n\\\n",
    "    gmx mdrun -v -nt 10 -pin on -pinstride 1 -pinoffset {pin_cores}'  > membrane_pulling.sh\")\n",
    "    \n",
    "    #### Edit .mdp file\n",
    "    with open('common_files/md_template_1us.mdp', 'r') as f:\n",
    "        ogfile= f.read()\n",
    "    newfile=ogfile.replace('XXX', str(umbrella_dist))\n",
    "    newfile=newfile.replace('YYY', str(umbrella_strength))\n",
    "    newfile=newfile.replace('TTT', str(tail_bead))\n",
    "    newfile=newfile.replace('WWW', str(water_bead))\n",
    "    newfile=newfile.replace('RRR', str(pull_rate))\n",
    "    with open('pull.mdp', 'w') as f:\n",
    "        f.write(newfile)\n",
    "    \n",
    "    os.system('chmod +x membrane_pulling.sh')\n",
    "    #os.system('./membrane_pulling.sh')\n",
    "    \n",
    "    return print('All done')"
   ]
  },
  {
   "cell_type": "markdown",
   "metadata": {
    "tags": []
   },
   "source": [
    "\n",
    "#### Find normal\n",
    "====================================================================================="
   ]
  },
  {
   "cell_type": "code",
   "execution_count": 7,
   "metadata": {
    "tags": []
   },
   "outputs": [],
   "source": [
    "## Choose the number of slices\n",
    "num_slices = 30\n",
    "\n",
    "## Define the name of the directory to run the simulation where you determine the membrane normal\n",
    "normal_dir = 'normal_sim'\n",
    "\n",
    "## Manualy define a tail bead index from the lipids in contact with the middle water layer. \n",
    "tail_bead = 6526\n",
    "\n",
    "## Manualy define a water bead index from the middle water compartment. \n",
    "water_bead = 8305\n",
    "\n",
    "## Run\n",
    "run_normal(num_slices, normal_dir, tail_bead, water_bead)"
   ]
  },
  {
   "cell_type": "markdown",
   "metadata": {},
   "source": [
    "####  Pull two membranes together\n",
    "============================================================"
   ]
  },
  {
   "cell_type": "code",
   "execution_count": 17,
   "metadata": {
    "scrolled": true,
    "tags": []
   },
   "outputs": [
    {
     "name": "stdout",
     "output_type": "stream",
     "text": [
      "All done\n",
      "All done\n",
      "All done\n",
      "All done\n",
      "All done\n"
     ]
    }
   ],
   "source": [
    "## Correct the number of slices if necessary\n",
    "num_slices = 30\n",
    "\n",
    "## Manualy define a tail bead index from the lipids in contact with the middle water layer. \n",
    "tail_bead = 6526\n",
    "\n",
    "## Manualy define a water bead index from the middle water compartment. \n",
    "water_bead = 8305\n",
    "\n",
    "\n",
    "for run, pin_cores in zip(['run_00', 'run_01', 'run_02', 'run_03', 'run_04'],[0, 10, 20, 30, 10]) : \n",
    "    os.chdir(current_dir)\n",
    "    if os.path.isdir(run)==False:\n",
    "        os.mkdir(run)\n",
    "        os.chdir(run)\n",
    "        run_pulling(num_slices, tail_bead, water_bead)\n",
    "    elif os.path.isdir(run)==True:\n",
    "        os.chdir(run)\n",
    "        run_pulling(num_slices, tail_bead, water_bead)"
   ]
  }
 ],
 "metadata": {
  "kernelspec": {
   "display_name": "Python 3 (ipykernel)",
   "language": "python",
   "name": "python3"
  },
  "language_info": {
   "codemirror_mode": {
    "name": "ipython",
    "version": 3
   },
   "file_extension": ".py",
   "mimetype": "text/x-python",
   "name": "python",
   "nbconvert_exporter": "python",
   "pygments_lexer": "ipython3",
   "version": "3.12.2"
  }
 },
 "nbformat": 4,
 "nbformat_minor": 4
}
